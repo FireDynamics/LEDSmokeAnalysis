{
 "cells": [
  {
   "cell_type": "code",
   "execution_count": 2,
   "metadata": {
    "collapsed": true
   },
   "outputs": [],
   "source": [
    "import pandas as pd\n",
    "pd.set_option(\"display.min_rows\", 141)\n",
    "pd.set_option(\"display.max_rows\", 141)\n",
    "import matplotlib.pyplot as plt"
   ]
  },
  {
   "cell_type": "code",
   "execution_count": 2,
   "outputs": [],
   "source": [],
   "metadata": {
    "collapsed": false
   }
  },
  {
   "cell_type": "code",
   "execution_count": 1,
   "outputs": [
    {
     "ename": "NameError",
     "evalue": "name 'pd' is not defined",
     "output_type": "error",
     "traceback": [
      "\u001B[0;31m---------------------------------------------------------------------------\u001B[0m",
      "\u001B[0;31mNameError\u001B[0m                                 Traceback (most recent call last)",
      "\u001B[0;32m<ipython-input-1-e0c373b2b38f>\u001B[0m in \u001B[0;36m<module>\u001B[0;34m\u001B[0m\n\u001B[0;32m----> 1\u001B[0;31m \u001B[0mtable\u001B[0m \u001B[0;34m=\u001B[0m \u001B[0mpd\u001B[0m\u001B[0;34m.\u001B[0m\u001B[0mread_hdf\u001B[0m\u001B[0;34m(\u001B[0m\u001B[0;34m'/Users/kristianboerger/repos/PhD/LEDSmokeAnalysis/test_output/ledsa/analysis/channel0/all_parameters.h5'\u001B[0m\u001B[0;34m,\u001B[0m \u001B[0;34m'table'\u001B[0m\u001B[0;34m)\u001B[0m\u001B[0;34m\u001B[0m\u001B[0;34m\u001B[0m\u001B[0m\n\u001B[0m\u001B[1;32m      2\u001B[0m \u001B[0;31m# table = pd.read_hdf('/Users/kristianboerger/Documents/Arbeit/PhD/Beiträge und Veröffentlichungen/2023_IAFSS/test_simulations/V007/V007/canon_2/analysis/channel0/all_parameters.h5', 'table')\u001B[0m\u001B[0;34m\u001B[0m\u001B[0;34m\u001B[0m\u001B[0;34m\u001B[0m\u001B[0m\n\u001B[1;32m      3\u001B[0m \u001B[0mplt\u001B[0m\u001B[0;34m.\u001B[0m\u001B[0mplot\u001B[0m\u001B[0;34m(\u001B[0m\u001B[0;34m)\u001B[0m\u001B[0;34m\u001B[0m\u001B[0;34m\u001B[0m\u001B[0m\n\u001B[1;32m      4\u001B[0m \u001B[0;31m# display(table)\u001B[0m\u001B[0;34m\u001B[0m\u001B[0;34m\u001B[0m\u001B[0;34m\u001B[0m\u001B[0m\n\u001B[1;32m      5\u001B[0m \u001B[0mcriteria\u001B[0m \u001B[0;34m=\u001B[0m \u001B[0mtable\u001B[0m\u001B[0;34m[\u001B[0m\u001B[0;34m'img_id'\u001B[0m\u001B[0;34m]\u001B[0m\u001B[0;34m==\u001B[0m\u001B[0;36m970\u001B[0m\u001B[0;34m\u001B[0m\u001B[0;34m\u001B[0m\u001B[0m\n",
      "\u001B[0;31mNameError\u001B[0m: name 'pd' is not defined"
     ]
    }
   ],
   "source": [
    "table = pd.read_hdf('/Users/kristianboerger/repos/PhD/LEDSmokeAnalysis/test_output/ledsa/analysis/channel0/all_parameters.h5', 'table')\n",
    "# table = pd.read_hdf('/Users/kristianboerger/Documents/Arbeit/PhD/Beiträge und Veröffentlichungen/2023_IAFSS/test_simulations/V007/V007/canon_2/analysis/channel0/all_parameters.h5', 'table')\n",
    "plt.plot()\n",
    "# display(table)\n",
    "criteria = table['img_id']==970\n",
    "# criteria = table['line']==1\n",
    "#\n",
    "display(table)\n",
    "display(table[criteria])\n",
    "# display(table.groupby('led_id').mean())"
   ],
   "metadata": {
    "collapsed": false
   }
  },
  {
   "cell_type": "code",
   "execution_count": 8,
   "outputs": [
    {
     "data": {
      "text/plain": "Empty DataFrame\nColumns: [img_id, led_id, line, sum_col_val, mean_col_val, max_col_val, width, height]\nIndex: []",
      "text/html": "<div>\n<style scoped>\n    .dataframe tbody tr th:only-of-type {\n        vertical-align: middle;\n    }\n\n    .dataframe tbody tr th {\n        vertical-align: top;\n    }\n\n    .dataframe thead th {\n        text-align: right;\n    }\n</style>\n<table border=\"1\" class=\"dataframe\">\n  <thead>\n    <tr style=\"text-align: right;\">\n      <th></th>\n      <th>img_id</th>\n      <th>led_id</th>\n      <th>line</th>\n      <th>sum_col_val</th>\n      <th>mean_col_val</th>\n      <th>max_col_val</th>\n      <th>width</th>\n      <th>height</th>\n    </tr>\n  </thead>\n  <tbody>\n  </tbody>\n</table>\n</div>"
     },
     "metadata": {},
     "output_type": "display_data"
    }
   ],
   "source": [
    "table = pd.read_hdf('/Users/kristianboerger/working_files/ledsa/test/analysis/channel0/all_parameters.h5', 'table')\n",
    "# table = pd.read_hdf('/Users/kristianboerger/working_files/ledsa/test/analysis/channel0/all_parameters_avg.h5', 'table')\n",
    "\n",
    "# display(table)\n",
    "criteria = table['line']==3\n",
    "display(table[criteria])"
   ],
   "metadata": {
    "collapsed": false
   }
  },
  {
   "cell_type": "code",
   "execution_count": null,
   "outputs": [],
   "source": [
    "table = pd.read_hdf('/Users/kristianboerger/Desktop/simulation_temp/all_parameters.h5', 'table')\n",
    "table_avg = pd.read_hdf('/Users/kristianboerger/Desktop/simulation_temp/all_parameters_avg.h5', 'table')\n",
    "\n",
    "display(table)\n",
    "display(table_avg)\n",
    "\n",
    "led=950\n",
    "criteria = table['led_id']==led\n",
    "criteria_avg = table_avg['led_id']==led\n",
    "led = table[criteria]/table[criteria].iloc[0]\n",
    "led_avg = table_avg[criteria_avg]/table_avg[criteria_avg].iloc[0]\n",
    "\n",
    "# display(led)\n",
    "plt.plot(range(0,len(led_avg[\"sum_col_val\"])*2,2), led_avg[\"sum_col_val\"])\n",
    "plt.plot(range(len(led[\"sum_col_val\"])), led[\"sum_col_val\"])"
   ],
   "metadata": {
    "collapsed": false
   }
  },
  {
   "cell_type": "code",
   "execution_count": null,
   "outputs": [],
   "source": [
    "table = pd.read_hdf('/Users/kristianboerger/working_files/vorversuche/V001/sony_1/analysis/channel2/all_parameters.h5', 'table')\n",
    "# display(table)\n"
   ],
   "metadata": {
    "collapsed": false
   }
  },
  {
   "cell_type": "code",
   "execution_count": 3,
   "outputs": [
    {
     "data": {
      "text/plain": "<Figure size 432x288 with 1 Axes>",
      "image/png": "[encoded data removed]"
     },
     "metadata": {
      "needs_background": "light"
     },
     "output_type": "display_data"
    }
   ],
   "source": [
    "led=141\n",
    "criteria = table['led_id']==led\n",
    "led = table[criteria]/table[criteria].iloc[0:3].mean()\n",
    "\n",
    "# display(led)\n",
    "plt.plot(range(len(led[\"sum_col_val\"])), led[\"sum_col_val\"])\n",
    "plt.grid()"
   ],
   "metadata": {
    "collapsed": false
   }
  },
  {
   "cell_type": "code",
   "execution_count": null,
   "outputs": [],
   "source": [],
   "metadata": {
    "collapsed": false
   }
  }
 ],
 "metadata": {
  "kernelspec": {
   "display_name": "Python 3",
   "language": "python",
   "name": "python3"
  },
  "language_info": {
   "codemirror_mode": {
    "name": "ipython",
    "version": 2
   },
   "file_extension": ".py",
   "mimetype": "text/x-python",
   "name": "python",
   "nbconvert_exporter": "python",
   "pygments_lexer": "ipython2",
   "version": "2.7.6"
  }
 },
 "nbformat": 4,
 "nbformat_minor": 0
}
