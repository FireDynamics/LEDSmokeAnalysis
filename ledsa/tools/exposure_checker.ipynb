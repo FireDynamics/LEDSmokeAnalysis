{
 "cells": [
  {
   "metadata": {},
   "cell_type": "markdown",
   "source": [
    "# Image Exposure Checker\n",
    "\n",
    "This notebook allows you to check the exposure of a series of pictures. It calculates the pixel saturation value as a percentage.\n"
   ],
   "id": "d5b8be1e27d27315"
  },
  {
   "metadata": {},
   "cell_type": "markdown",
   "source": "# Dependencies\n",
   "id": "9df8a44a552be70"
  },
  {
   "metadata": {},
   "cell_type": "code",
   "outputs": [],
   "execution_count": null,
   "source": [
    "import os\n",
    "from ledsa.core.image_reading import read_channel_data_from_img, get_exif_entry"
   ],
   "id": "41c98f47ba1f266f"
  },
  {
   "metadata": {},
   "cell_type": "markdown",
   "source": "# Configuration\n",
   "id": "8bab111a65dd1b89"
  },
  {
   "metadata": {},
   "cell_type": "code",
   "outputs": [],
   "execution_count": null,
   "source": [
    "# Configure the image path and range\n",
    "image_dir = \"/path/to/your/images\"  # Update this to your image directory\n",
    "image_name_string = \"IMG_{:04d}.JPG\"  # F-string template for image names\n",
    "image_range = range(1, 10)  # Range of image numbers to process\n",
    "channel = 0  # Color channel to analyze (0=Red, 1=Green, 2=Blue)\n",
    "saturation = 255"
   ],
   "id": "aa799b526e7eb076"
  },
  {
   "metadata": {},
   "cell_type": "markdown",
   "source": "# Process Images\n",
   "id": "9b3295c6d521431e"
  },
  {
   "metadata": {},
   "cell_type": "code",
   "outputs": [],
   "execution_count": null,
   "source": [
    "# Process each image in the range\n",
    "for img_id in image_range:\n",
    "    # Create the image filename using the template\n",
    "    image_filename = os.path.join(image_dir, image_name_string.format(img_id))\n",
    "    \n",
    "    # Check if the file exists\n",
    "    if not os.path.exists(image_filename):\n",
    "        print(f\"Image {image_filename} not found, skipping.\")\n",
    "        continue\n",
    "    \n",
    "    print(f\"Processing image: {image_filename}\")\n",
    "    \n",
    "    # Read the image data for the specified channel\n",
    "    try:\n",
    "        exposure_time = get_exif_entry(image_filename, 'ExposureTime')\n",
    "        channel_array_0 = read_channel_data_from_img(image_filename, 0)\n",
    "        channel_array_1 = read_channel_data_from_img(image_filename, 1)\n",
    "        channel_array_2 = read_channel_data_from_img(image_filename, 2)\n",
    "        \n",
    "        print(f\"Exposure Time: {exposure_time}\")\n",
    "        print(f\"Max CH0: {channel_array_0.max()}, Sat CH0: {channel_array_0.max()/saturation*100} %\")\n",
    "        print(f\"Max CH1: {channel_array_1.max()}, Sat CH1: {channel_array_1.max()/saturation*100} %\")\n",
    "        print(f\"Max CH2: {channel_array_2.max()}, Sat CH2: {channel_array_2.max()/saturation*100} %\")\n",
    "        print(\"-----------------\")\n",
    "\n",
    "        \n",
    "\n",
    "        \n",
    "\n"
   ],
   "id": "344c5f7ce039571b"
  }
 ],
 "metadata": {},
 "nbformat": 4,
 "nbformat_minor": 5
}
